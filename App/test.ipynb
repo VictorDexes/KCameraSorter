{
 "cells": [
  {
   "cell_type": "markdown",
   "metadata": {},
   "source": [
    "# Organisateru d'image\n"
   ]
  },
  {
   "cell_type": "markdown",
   "metadata": {},
   "source": [
    "### import"
   ]
  },
  {
   "cell_type": "code",
   "execution_count": 44,
   "metadata": {},
   "outputs": [],
   "source": [
    "import os\n",
    "import shutil\n",
    "from datetime import datetime\n",
    "from PIL import Image, ExifTags"
   ]
  },
  {
   "cell_type": "markdown",
   "metadata": {},
   "source": [
    "### Env variable"
   ]
  },
  {
   "cell_type": "code",
   "execution_count": 62,
   "metadata": {},
   "outputs": [],
   "source": [
    "imgExtensions = [\".png\", \".gif\", \".jpg\", \".jpeg\", \".jfif\", \".pjpeg\", \".pjp\"]\n",
    "inputPath = \"./New folder/Camera\"\n",
    "outputPath = \"./Output Folder/\"\n",
    "\n",
    "months = ['janvier', 'fevrier', 'mars', 'avril', 'mai', 'juin', 'juillet', 'aout', 'septembre', 'octobre', 'novembre', 'decembre']"
   ]
  },
  {
   "cell_type": "markdown",
   "metadata": {},
   "source": [
    "### Functions"
   ]
  },
  {
   "cell_type": "code",
   "execution_count": 75,
   "metadata": {},
   "outputs": [],
   "source": [
    "def getFolderContent(input_path):\n",
    "    output= {'files': [], 'directories': []}\n",
    "    for f in os.listdir(input_path):\n",
    "        if os.path.isfile(os.path.join(input_path, f)):\n",
    "           output['files'].append(f)\n",
    "        else: \n",
    "           output['directories'].append(f)\n",
    "    \n",
    "    return {'files': output['files'], 'directories': output['directories']}\n",
    "\n",
    "def getFiles(input_path):\n",
    "    content = getFolderContent(input_path)\n",
    "    output = [f\"{input_path}/{file}\" for file in content[\"files\"]]\n",
    "    # output = f\"{input_path}/{content['files']}\"\n",
    "    for dir in content['directories']:\n",
    "        output = output + getFiles(os.path.join(input_path, dir))\n",
    "    return output\n",
    "\n",
    "def isImage(input_path):\n",
    "    if(os.path.isdir(input_path) or os.path.isfile(input_path)):\n",
    "        return os.path.splitext(input_path)[1] in imgExtensions\n",
    "\n",
    "def getMetaData(input_path):\n",
    "    if(isImage(input_path)):\n",
    "        img = Image.open(os.path.abspath(input_path))\n",
    "        return { ExifTags.TAGS[k]: v for k, v in img._getexif().items() if k in ExifTags.TAGS } if img._getexif() else {}\n",
    "    else: return {}\n",
    "    \n",
    "def createOutputDatePath(output_path, timestamp):\n",
    "    yearPath = os.path.join(output_path, timestamp[:4])\n",
    "    monthPath = os.path.join(yearPath, f'{timestamp[5:7]}-{months[int(timestamp[5:7])-1]}')\n",
    "    if(not os.path.exists(output_path)): os.mkdir(output_path)\n",
    "    if(not os.path.exists(yearPath)): os.mkdir(yearPath)\n",
    "    if(not os.path.exists(monthPath)): os.mkdir(monthPath)\n",
    "    return monthPath\n",
    "\n",
    "\n",
    "\n"
   ]
  },
  {
   "cell_type": "code",
   "execution_count": 77,
   "metadata": {},
   "outputs": [
    {
     "ename": "FileNotFoundError",
     "evalue": "[WinError 3] The system cannot find the path specified: 'no meta data\\\\./Output Folder/'",
     "output_type": "error",
     "traceback": [
      "\u001b[1;31m---------------------------------------------------------------------------\u001b[0m",
      "\u001b[1;31mFileNotFoundError\u001b[0m                         Traceback (most recent call last)",
      "Cell \u001b[1;32mIn[77], line 6\u001b[0m\n\u001b[0;32m      4\u001b[0m     shutil\u001b[38;5;241m.\u001b[39mcopyfile(file, os\u001b[38;5;241m.\u001b[39mpath\u001b[38;5;241m.\u001b[39mjoin(\u001b[38;5;124m\"\u001b[39m\u001b[38;5;124mSorted\u001b[39m\u001b[38;5;124m\"\u001b[39m, createOutputDatePath(outputPath, meta[\u001b[38;5;124m\"\u001b[39m\u001b[38;5;124mDateTime\u001b[39m\u001b[38;5;124m\"\u001b[39m]), os\u001b[38;5;241m.\u001b[39mpath\u001b[38;5;241m.\u001b[39msplit(file)[\u001b[38;5;241m1\u001b[39m]))\n\u001b[0;32m      5\u001b[0m \u001b[38;5;28;01melse\u001b[39;00m:\n\u001b[1;32m----> 6\u001b[0m     \u001b[38;5;28;01mif\u001b[39;00m(\u001b[38;5;129;01mnot\u001b[39;00m os\u001b[38;5;241m.\u001b[39mpath\u001b[38;5;241m.\u001b[39mexists(os\u001b[38;5;241m.\u001b[39mpath\u001b[38;5;241m.\u001b[39mjoin(\u001b[38;5;124m\"\u001b[39m\u001b[38;5;124mno meta data\u001b[39m\u001b[38;5;124m\"\u001b[39m, outputPath))): os\u001b[38;5;241m.\u001b[39mmkdir(os\u001b[38;5;241m.\u001b[39mpath\u001b[38;5;241m.\u001b[39mjoin(\u001b[38;5;124m\"\u001b[39m\u001b[38;5;124mno meta data\u001b[39m\u001b[38;5;124m\"\u001b[39m, outputPath))\n\u001b[0;32m      7\u001b[0m     shutil\u001b[38;5;241m.\u001b[39mcopyfile(file, os\u001b[38;5;241m.\u001b[39mpath\u001b[38;5;241m.\u001b[39mjoin(\u001b[38;5;124m\"\u001b[39m\u001b[38;5;124mno meta data\u001b[39m\u001b[38;5;124m\"\u001b[39m, os\u001b[38;5;241m.\u001b[39mpath\u001b[38;5;241m.\u001b[39msplit(file)[\u001b[38;5;241m1\u001b[39m]))\n",
      "\u001b[1;31mFileNotFoundError\u001b[0m: [WinError 3] The system cannot find the path specified: 'no meta data\\\\./Output Folder/'"
     ]
    }
   ],
   "source": [
    "for file in getFiles(\"./Sample\"):\n",
    "    meta = getMetaData(file)\n",
    "    if(\"DateTime\" in meta):\n",
    "        shutil.copyfile(file, os.path.join(\"Sorted\", createOutputDatePath(outputPath, meta[\"DateTime\"]), os.path.split(file)[1]))\n",
    "    else:\n",
    "        if(not os.path.exists(os.path.join(\"no meta data\", outputPath))): os.mkdir(os.path.join(\"no meta data\", outputPath))\n",
    "        shutil.copyfile(file, os.path.join(\"no meta data\", os.path.split(file)[1]))"
   ]
  }
 ],
 "metadata": {
  "kernelspec": {
   "display_name": "Python 3",
   "language": "python",
   "name": "python3"
  },
  "language_info": {
   "codemirror_mode": {
    "name": "ipython",
    "version": 3
   },
   "file_extension": ".py",
   "mimetype": "text/x-python",
   "name": "python",
   "nbconvert_exporter": "python",
   "pygments_lexer": "ipython3",
   "version": "3.13.0"
  }
 },
 "nbformat": 4,
 "nbformat_minor": 2
}
